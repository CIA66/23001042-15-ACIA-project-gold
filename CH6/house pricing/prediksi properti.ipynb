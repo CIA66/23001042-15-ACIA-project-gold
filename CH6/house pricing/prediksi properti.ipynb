{
 "cells": [
  {
   "cell_type": "markdown",
   "metadata": {},
   "source": [
    "# Business Understanding\n",
    "Prediksi \"harga\" properti di kota Bandung, menggunakan ML berdasarkan parameter jumlah lahan, luas bangunan, dan luas lahan."
   ]
  },
  {
   "cell_type": "code",
   "execution_count": 1,
   "metadata": {},
   "outputs": [
    {
     "name": "stdout",
     "output_type": "stream",
     "text": [
      "Requirement already satisfied: scikit-learn in c:\\users\\asani\\documents\\github\\23001042-15-acia-project-gold\\env\\lib\\site-packages (1.3.2)\n",
      "Requirement already satisfied: numpy<2.0,>=1.17.3 in c:\\users\\asani\\documents\\github\\23001042-15-acia-project-gold\\env\\lib\\site-packages (from scikit-learn) (1.26.3)\n",
      "Requirement already satisfied: scipy>=1.5.0 in c:\\users\\asani\\documents\\github\\23001042-15-acia-project-gold\\env\\lib\\site-packages (from scikit-learn) (1.11.4)\n",
      "Requirement already satisfied: joblib>=1.1.1 in c:\\users\\asani\\documents\\github\\23001042-15-acia-project-gold\\env\\lib\\site-packages (from scikit-learn) (1.3.2)\n",
      "Requirement already satisfied: threadpoolctl>=2.0.0 in c:\\users\\asani\\documents\\github\\23001042-15-acia-project-gold\\env\\lib\\site-packages (from scikit-learn) (3.2.0)\n"
     ]
    },
    {
     "name": "stderr",
     "output_type": "stream",
     "text": [
      "WARNING: There was an error checking the latest version of pip.\n"
     ]
    }
   ],
   "source": [
    "# !pip install -U scikit-learn"
   ]
  },
  {
   "cell_type": "code",
   "execution_count": 2,
   "metadata": {},
   "outputs": [],
   "source": [
    "import pandas as pd\n",
    "import matplotlib.pyplot as plt\n",
    "import seaborn as sns\n",
    "from sklearn.linear_model import LinearRegression\n",
    "from sklearn.model_selection import train_test_split"
   ]
  },
  {
   "cell_type": "code",
   "execution_count": 3,
   "metadata": {},
   "outputs": [
    {
     "data": {
      "text/html": [
       "<div>\n",
       "<style scoped>\n",
       "    .dataframe tbody tr th:only-of-type {\n",
       "        vertical-align: middle;\n",
       "    }\n",
       "\n",
       "    .dataframe tbody tr th {\n",
       "        vertical-align: top;\n",
       "    }\n",
       "\n",
       "    .dataframe thead th {\n",
       "        text-align: right;\n",
       "    }\n",
       "</style>\n",
       "<table border=\"1\" class=\"dataframe\">\n",
       "  <thead>\n",
       "    <tr style=\"text-align: right;\">\n",
       "      <th></th>\n",
       "      <th>judul</th>\n",
       "      <th>alamat</th>\n",
       "      <th>deskripsi</th>\n",
       "      <th>kamar</th>\n",
       "      <th>bangunan</th>\n",
       "      <th>lahan</th>\n",
       "      <th>harga</th>\n",
       "    </tr>\n",
       "  </thead>\n",
       "  <tbody>\n",
       "    <tr>\n",
       "      <th>0</th>\n",
       "      <td>Promo Rumah Mewah Akhir Tahun</td>\n",
       "      <td>Antapani, Bandung</td>\n",
       "      <td>Promo akhir tahun !! Hanya 500 jt-an + FREE SH...</td>\n",
       "      <td>3</td>\n",
       "      <td>75</td>\n",
       "      <td>84</td>\n",
       "      <td>590000000</td>\n",
       "    </tr>\n",
       "    <tr>\n",
       "      <th>1</th>\n",
       "      <td>Rumah modern Readystock di bandung raya cimahi...</td>\n",
       "      <td>Bandung Wetan, Bandung</td>\n",
       "      <td>Rumah Baru modern 2 LT di Sayap Kota Cimahi de...</td>\n",
       "      <td>3</td>\n",
       "      <td>70</td>\n",
       "      <td>71</td>\n",
       "      <td>700000000</td>\n",
       "    </tr>\n",
       "    <tr>\n",
       "      <th>2</th>\n",
       "      <td>Dijual rumah 300 jutaan jalan lebar dekat Ikea...</td>\n",
       "      <td>Padalarang, Bandung</td>\n",
       "      <td>*Jadilah konsumen CERDAS !* *Tips singkat sebe...</td>\n",
       "      <td>2</td>\n",
       "      <td>36</td>\n",
       "      <td>72</td>\n",
       "      <td>386000000</td>\n",
       "    </tr>\n",
       "    <tr>\n",
       "      <th>3</th>\n",
       "      <td>Dijual PROMO rumah 2 lantai di sayap Setiabudi...</td>\n",
       "      <td>Bandung</td>\n",
       "      <td>Copy writing nasc  NUANSA ALAM SETIABUDHI CLOV...</td>\n",
       "      <td>2</td>\n",
       "      <td>60</td>\n",
       "      <td>60</td>\n",
       "      <td>499000000</td>\n",
       "    </tr>\n",
       "    <tr>\n",
       "      <th>4</th>\n",
       "      <td>Rumah Strategis Siap Huni di dekat Tol Cileuny...</td>\n",
       "      <td>Cibiru Hilir, Bandung</td>\n",
       "      <td>Hunian Nyaman di Cibiru, Cileunyi, Bandung Tim...</td>\n",
       "      <td>2</td>\n",
       "      <td>90</td>\n",
       "      <td>114</td>\n",
       "      <td>397500000</td>\n",
       "    </tr>\n",
       "    <tr>\n",
       "      <th>...</th>\n",
       "      <td>...</td>\n",
       "      <td>...</td>\n",
       "      <td>...</td>\n",
       "      <td>...</td>\n",
       "      <td>...</td>\n",
       "      <td>...</td>\n",
       "      <td>...</td>\n",
       "    </tr>\n",
       "    <tr>\n",
       "      <th>1465</th>\n",
       "      <td>Rumah Lama Turangga</td>\n",
       "      <td>Turangga, Bandung</td>\n",
       "      <td>Di jual rumah lama turangga\\nLuas tanah : 240 ...</td>\n",
       "      <td>6</td>\n",
       "      <td>280</td>\n",
       "      <td>240</td>\n",
       "      <td>2800000000</td>\n",
       "    </tr>\n",
       "    <tr>\n",
       "      <th>1466</th>\n",
       "      <td>Rumah di nirwana residence bandung siap huni t...</td>\n",
       "      <td>Bandung</td>\n",
       "      <td>Rumah bagus siap huni dan terawat, dekat denga...</td>\n",
       "      <td>3</td>\n",
       "      <td>180</td>\n",
       "      <td>90</td>\n",
       "      <td>1000000000</td>\n",
       "    </tr>\n",
       "    <tr>\n",
       "      <th>1467</th>\n",
       "      <td>Rumah Minimalis Siap Huni Sangat Murah Di Pinu...</td>\n",
       "      <td>Soekarno Hatta, Bandung</td>\n",
       "      <td>Turun HargaHarga Awal 675 sekarang jadi 572 ne...</td>\n",
       "      <td>2</td>\n",
       "      <td>65</td>\n",
       "      <td>72</td>\n",
       "      <td>572000000</td>\n",
       "    </tr>\n",
       "    <tr>\n",
       "      <th>1468</th>\n",
       "      <td>Dijual Cepat Rumah Strategis di Komplek Batura...</td>\n",
       "      <td>Rancasari, Bandung</td>\n",
       "      <td>Dijual Cepat Rumah di Komplek Batu Raden dekat...</td>\n",
       "      <td>6</td>\n",
       "      <td>160</td>\n",
       "      <td>318</td>\n",
       "      <td>2300000000</td>\n",
       "    </tr>\n",
       "    <tr>\n",
       "      <th>1469</th>\n",
       "      <td>Rumah turangga bagus siap huni turun harga dra...</td>\n",
       "      <td>Turangga, Bandung</td>\n",
       "      <td>Turun Harga drastis CAKEP BOSQUE.. Area Turang...</td>\n",
       "      <td>5</td>\n",
       "      <td>240</td>\n",
       "      <td>188</td>\n",
       "      <td>2400000000</td>\n",
       "    </tr>\n",
       "  </tbody>\n",
       "</table>\n",
       "<p>1470 rows × 7 columns</p>\n",
       "</div>"
      ],
      "text/plain": [
       "                                                  judul  \\\n",
       "0                         Promo Rumah Mewah Akhir Tahun   \n",
       "1     Rumah modern Readystock di bandung raya cimahi...   \n",
       "2     Dijual rumah 300 jutaan jalan lebar dekat Ikea...   \n",
       "3     Dijual PROMO rumah 2 lantai di sayap Setiabudi...   \n",
       "4     Rumah Strategis Siap Huni di dekat Tol Cileuny...   \n",
       "...                                                 ...   \n",
       "1465                                Rumah Lama Turangga   \n",
       "1466  Rumah di nirwana residence bandung siap huni t...   \n",
       "1467  Rumah Minimalis Siap Huni Sangat Murah Di Pinu...   \n",
       "1468  Dijual Cepat Rumah Strategis di Komplek Batura...   \n",
       "1469  Rumah turangga bagus siap huni turun harga dra...   \n",
       "\n",
       "                       alamat  \\\n",
       "0           Antapani, Bandung   \n",
       "1      Bandung Wetan, Bandung   \n",
       "2         Padalarang, Bandung   \n",
       "3                     Bandung   \n",
       "4       Cibiru Hilir, Bandung   \n",
       "...                       ...   \n",
       "1465        Turangga, Bandung   \n",
       "1466                  Bandung   \n",
       "1467  Soekarno Hatta, Bandung   \n",
       "1468       Rancasari, Bandung   \n",
       "1469        Turangga, Bandung   \n",
       "\n",
       "                                              deskripsi  kamar  bangunan  \\\n",
       "0     Promo akhir tahun !! Hanya 500 jt-an + FREE SH...      3        75   \n",
       "1     Rumah Baru modern 2 LT di Sayap Kota Cimahi de...      3        70   \n",
       "2     *Jadilah konsumen CERDAS !* *Tips singkat sebe...      2        36   \n",
       "3     Copy writing nasc  NUANSA ALAM SETIABUDHI CLOV...      2        60   \n",
       "4     Hunian Nyaman di Cibiru, Cileunyi, Bandung Tim...      2        90   \n",
       "...                                                 ...    ...       ...   \n",
       "1465  Di jual rumah lama turangga\\nLuas tanah : 240 ...      6       280   \n",
       "1466  Rumah bagus siap huni dan terawat, dekat denga...      3       180   \n",
       "1467  Turun HargaHarga Awal 675 sekarang jadi 572 ne...      2        65   \n",
       "1468  Dijual Cepat Rumah di Komplek Batu Raden dekat...      6       160   \n",
       "1469  Turun Harga drastis CAKEP BOSQUE.. Area Turang...      5       240   \n",
       "\n",
       "      lahan       harga  \n",
       "0        84   590000000  \n",
       "1        71   700000000  \n",
       "2        72   386000000  \n",
       "3        60   499000000  \n",
       "4       114   397500000  \n",
       "...     ...         ...  \n",
       "1465    240  2800000000  \n",
       "1466     90  1000000000  \n",
       "1467     72   572000000  \n",
       "1468    318  2300000000  \n",
       "1469    188  2400000000  \n",
       "\n",
       "[1470 rows x 7 columns]"
      ]
     },
     "execution_count": 3,
     "metadata": {},
     "output_type": "execute_result"
    }
   ],
   "source": [
    "df = pd.read_csv('properti_bdg.csv')\n",
    "df"
   ]
  },
  {
   "cell_type": "markdown",
   "metadata": {},
   "source": [
    "# Data Understanding\n",
    "- Data di atas meruoakan data properti di daerah Bandung\n",
    "<br>\n",
    "- Objective goals: memprediksi harga\n",
    "<br>\n",
    "- Harga memeiliki type data numeric. Maka dari itu tim Data proposed metode Linear Regression.\n",
    "<br>\n",
    "- Kenapa Regresi? Dimana cariable x: ['kamar', 'bangunan', 'lahan'], y = [harga]\n",
    "<br>\n",
    "- Rumus regresi: Y = b + m1.x1 + m2.x2 + ... + mn.xn\n",
    "<br>\n",
    "mn = koefisien regresi / rata\" perubahan y, jika x bertambah\n",
    "<br>\n",
    "b = intercept / Nilai pada saat x = 0."
   ]
  },
  {
   "cell_type": "code",
   "execution_count": 4,
   "metadata": {},
   "outputs": [
    {
     "data": {
      "text/plain": [
       "(1470, 7)"
      ]
     },
     "execution_count": 4,
     "metadata": {},
     "output_type": "execute_result"
    }
   ],
   "source": [
    "df.shape"
   ]
  },
  {
   "cell_type": "markdown",
   "metadata": {},
   "source": [
    "- Terdapat 1470 data observasi dan 7 features.\n",
    "- Hapus features yang tidak relevan: ['alamat', 'deskripsi', 'judul']"
   ]
  },
  {
   "cell_type": "code",
   "execution_count": 5,
   "metadata": {},
   "outputs": [
    {
     "data": {
      "text/html": [
       "<div>\n",
       "<style scoped>\n",
       "    .dataframe tbody tr th:only-of-type {\n",
       "        vertical-align: middle;\n",
       "    }\n",
       "\n",
       "    .dataframe tbody tr th {\n",
       "        vertical-align: top;\n",
       "    }\n",
       "\n",
       "    .dataframe thead th {\n",
       "        text-align: right;\n",
       "    }\n",
       "</style>\n",
       "<table border=\"1\" class=\"dataframe\">\n",
       "  <thead>\n",
       "    <tr style=\"text-align: right;\">\n",
       "      <th></th>\n",
       "      <th>kamar</th>\n",
       "      <th>bangunan</th>\n",
       "      <th>lahan</th>\n",
       "      <th>harga</th>\n",
       "    </tr>\n",
       "  </thead>\n",
       "  <tbody>\n",
       "    <tr>\n",
       "      <th>0</th>\n",
       "      <td>3</td>\n",
       "      <td>75</td>\n",
       "      <td>84</td>\n",
       "      <td>590000000</td>\n",
       "    </tr>\n",
       "    <tr>\n",
       "      <th>1</th>\n",
       "      <td>3</td>\n",
       "      <td>70</td>\n",
       "      <td>71</td>\n",
       "      <td>700000000</td>\n",
       "    </tr>\n",
       "    <tr>\n",
       "      <th>2</th>\n",
       "      <td>2</td>\n",
       "      <td>36</td>\n",
       "      <td>72</td>\n",
       "      <td>386000000</td>\n",
       "    </tr>\n",
       "    <tr>\n",
       "      <th>3</th>\n",
       "      <td>2</td>\n",
       "      <td>60</td>\n",
       "      <td>60</td>\n",
       "      <td>499000000</td>\n",
       "    </tr>\n",
       "    <tr>\n",
       "      <th>4</th>\n",
       "      <td>2</td>\n",
       "      <td>90</td>\n",
       "      <td>114</td>\n",
       "      <td>397500000</td>\n",
       "    </tr>\n",
       "    <tr>\n",
       "      <th>...</th>\n",
       "      <td>...</td>\n",
       "      <td>...</td>\n",
       "      <td>...</td>\n",
       "      <td>...</td>\n",
       "    </tr>\n",
       "    <tr>\n",
       "      <th>1465</th>\n",
       "      <td>6</td>\n",
       "      <td>280</td>\n",
       "      <td>240</td>\n",
       "      <td>2800000000</td>\n",
       "    </tr>\n",
       "    <tr>\n",
       "      <th>1466</th>\n",
       "      <td>3</td>\n",
       "      <td>180</td>\n",
       "      <td>90</td>\n",
       "      <td>1000000000</td>\n",
       "    </tr>\n",
       "    <tr>\n",
       "      <th>1467</th>\n",
       "      <td>2</td>\n",
       "      <td>65</td>\n",
       "      <td>72</td>\n",
       "      <td>572000000</td>\n",
       "    </tr>\n",
       "    <tr>\n",
       "      <th>1468</th>\n",
       "      <td>6</td>\n",
       "      <td>160</td>\n",
       "      <td>318</td>\n",
       "      <td>2300000000</td>\n",
       "    </tr>\n",
       "    <tr>\n",
       "      <th>1469</th>\n",
       "      <td>5</td>\n",
       "      <td>240</td>\n",
       "      <td>188</td>\n",
       "      <td>2400000000</td>\n",
       "    </tr>\n",
       "  </tbody>\n",
       "</table>\n",
       "<p>1470 rows × 4 columns</p>\n",
       "</div>"
      ],
      "text/plain": [
       "      kamar  bangunan  lahan       harga\n",
       "0         3        75     84   590000000\n",
       "1         3        70     71   700000000\n",
       "2         2        36     72   386000000\n",
       "3         2        60     60   499000000\n",
       "4         2        90    114   397500000\n",
       "...     ...       ...    ...         ...\n",
       "1465      6       280    240  2800000000\n",
       "1466      3       180     90  1000000000\n",
       "1467      2        65     72   572000000\n",
       "1468      6       160    318  2300000000\n",
       "1469      5       240    188  2400000000\n",
       "\n",
       "[1470 rows x 4 columns]"
      ]
     },
     "execution_count": 5,
     "metadata": {},
     "output_type": "execute_result"
    }
   ],
   "source": [
    "# hapus features yang tidak relevan\n",
    "df.drop(columns=['alamat', 'deskripsi', 'judul'], inplace=True)\n",
    "df"
   ]
  },
  {
   "cell_type": "code",
   "execution_count": 6,
   "metadata": {},
   "outputs": [
    {
     "name": "stdout",
     "output_type": "stream",
     "text": [
      "<class 'pandas.core.frame.DataFrame'>\n",
      "RangeIndex: 1470 entries, 0 to 1469\n",
      "Data columns (total 4 columns):\n",
      " #   Column    Non-Null Count  Dtype\n",
      "---  ------    --------------  -----\n",
      " 0   kamar     1470 non-null   int64\n",
      " 1   bangunan  1470 non-null   int64\n",
      " 2   lahan     1470 non-null   int64\n",
      " 3   harga     1470 non-null   int64\n",
      "dtypes: int64(4)\n",
      "memory usage: 46.1 KB\n",
      "\n",
      "Cek null Values\n"
     ]
    },
    {
     "data": {
      "text/plain": [
       "kamar       0\n",
       "bangunan    0\n",
       "lahan       0\n",
       "harga       0\n",
       "dtype: int64"
      ]
     },
     "execution_count": 6,
     "metadata": {},
     "output_type": "execute_result"
    }
   ],
   "source": [
    "df.info()\n",
    "print(\"\")\n",
    "print(\"Cek null Values\")\n",
    "df.isnull().sum()"
   ]
  },
  {
   "cell_type": "markdown",
   "metadata": {},
   "source": [
    "Tidak ada null values"
   ]
  },
  {
   "cell_type": "code",
   "execution_count": 7,
   "metadata": {},
   "outputs": [
    {
     "data": {
      "text/html": [
       "<div>\n",
       "<style scoped>\n",
       "    .dataframe tbody tr th:only-of-type {\n",
       "        vertical-align: middle;\n",
       "    }\n",
       "\n",
       "    .dataframe tbody tr th {\n",
       "        vertical-align: top;\n",
       "    }\n",
       "\n",
       "    .dataframe thead th {\n",
       "        text-align: right;\n",
       "    }\n",
       "</style>\n",
       "<table border=\"1\" class=\"dataframe\">\n",
       "  <thead>\n",
       "    <tr style=\"text-align: right;\">\n",
       "      <th></th>\n",
       "      <th>kamar</th>\n",
       "      <th>bangunan</th>\n",
       "      <th>lahan</th>\n",
       "      <th>harga</th>\n",
       "    </tr>\n",
       "  </thead>\n",
       "  <tbody>\n",
       "    <tr>\n",
       "      <th>count</th>\n",
       "      <td>1470.000000</td>\n",
       "      <td>1470.000000</td>\n",
       "      <td>1470.000000</td>\n",
       "      <td>1.470000e+03</td>\n",
       "    </tr>\n",
       "    <tr>\n",
       "      <th>mean</th>\n",
       "      <td>3.646259</td>\n",
       "      <td>177.489116</td>\n",
       "      <td>210.235374</td>\n",
       "      <td>2.581586e+09</td>\n",
       "    </tr>\n",
       "    <tr>\n",
       "      <th>std</th>\n",
       "      <td>2.535528</td>\n",
       "      <td>176.726326</td>\n",
       "      <td>500.109095</td>\n",
       "      <td>4.358051e+09</td>\n",
       "    </tr>\n",
       "    <tr>\n",
       "      <th>min</th>\n",
       "      <td>0.000000</td>\n",
       "      <td>0.000000</td>\n",
       "      <td>0.000000</td>\n",
       "      <td>6.500000e+07</td>\n",
       "    </tr>\n",
       "    <tr>\n",
       "      <th>25%</th>\n",
       "      <td>2.000000</td>\n",
       "      <td>65.000000</td>\n",
       "      <td>80.000000</td>\n",
       "      <td>6.750000e+08</td>\n",
       "    </tr>\n",
       "    <tr>\n",
       "      <th>50%</th>\n",
       "      <td>3.000000</td>\n",
       "      <td>122.500000</td>\n",
       "      <td>120.000000</td>\n",
       "      <td>1.370000e+09</td>\n",
       "    </tr>\n",
       "    <tr>\n",
       "      <th>75%</th>\n",
       "      <td>4.000000</td>\n",
       "      <td>230.000000</td>\n",
       "      <td>210.000000</td>\n",
       "      <td>3.000000e+09</td>\n",
       "    </tr>\n",
       "    <tr>\n",
       "      <th>max</th>\n",
       "      <td>47.000000</td>\n",
       "      <td>1850.000000</td>\n",
       "      <td>15000.000000</td>\n",
       "      <td>5.700000e+10</td>\n",
       "    </tr>\n",
       "  </tbody>\n",
       "</table>\n",
       "</div>"
      ],
      "text/plain": [
       "             kamar     bangunan         lahan         harga\n",
       "count  1470.000000  1470.000000   1470.000000  1.470000e+03\n",
       "mean      3.646259   177.489116    210.235374  2.581586e+09\n",
       "std       2.535528   176.726326    500.109095  4.358051e+09\n",
       "min       0.000000     0.000000      0.000000  6.500000e+07\n",
       "25%       2.000000    65.000000     80.000000  6.750000e+08\n",
       "50%       3.000000   122.500000    120.000000  1.370000e+09\n",
       "75%       4.000000   230.000000    210.000000  3.000000e+09\n",
       "max      47.000000  1850.000000  15000.000000  5.700000e+10"
      ]
     },
     "execution_count": 7,
     "metadata": {},
     "output_type": "execute_result"
    }
   ],
   "source": [
    "df.describe()"
   ]
  },
  {
   "cell_type": "markdown",
   "metadata": {},
   "source": [
    "Terdapat data animali dari fitur kamar, terdapat kamar dengan jumlah 47. Selanjutnya bisa kita validasi di proses EDA."
   ]
  },
  {
   "cell_type": "markdown",
   "metadata": {},
   "source": [
    "# Exploratory Data Analysis"
   ]
  },
  {
   "cell_type": "markdown",
   "metadata": {},
   "source": [
    "### Univariate Analysis\n",
    "-- Hanya menganalisis 1 variable"
   ]
  },
  {
   "cell_type": "code",
   "execution_count": 8,
   "metadata": {},
   "outputs": [
    {
     "data": {
      "image/png": "[encoded data removed]",
      "text/plain": [
       "<Figure size 1200x400 with 2 Axes>"
      ]
     },
     "metadata": {},
     "output_type": "display_data"
    }
   ],
   "source": [
    "f = plt.figure(figsize=(12,4))\n",
    "\n",
    "# countplot\n",
    "plt.subplot(1, 2, 1)\n",
    "sns.countplot(x=df['kamar'])\n",
    "\n",
    "# boxplot\n",
    "plt.subplot(1, 2, 2)\n",
    "sns.boxplot(x=df['kamar'])\n",
    "\n",
    "plt.show()"
   ]
  },
  {
   "cell_type": "markdown",
   "metadata": {},
   "source": [
    "Terdapat outlier pada data kamar"
   ]
  },
  {
   "cell_type": "code",
   "execution_count": 9,
   "metadata": {},
   "outputs": [
    {
     "data": {
      "image/png": "[encoded data removed]",
      "text/plain": [
       "<Figure size 1000x600 with 2 Axes>"
      ]
     },
     "metadata": {},
     "output_type": "display_data"
    }
   ],
   "source": [
    "f = plt.figure(figsize=(12,4))\n",
    "\n",
    "# countplot\n",
    "plt.subplot(1, 2, 1)\n",
    "df['bangunan'].plot(kind='hist', figsize=(10,6), bins=50) # bins = range nya per 50\n",
    "plt.ylabel('\\ncount', size=14)\n",
    "plt.xlabel('Luas bangunan [m2]', size=14)\n",
    "\n",
    "# boxplot\n",
    "plt.subplot(1, 2, 2)\n",
    "sns.boxplot(x=df['bangunan'])\n",
    "\n",
    "plt.show()"
   ]
  },
  {
   "cell_type": "markdown",
   "metadata": {},
   "source": [
    "Terdapat outlier dari fitur luas bangunan."
   ]
  },
  {
   "cell_type": "code",
   "execution_count": 10,
   "metadata": {},
   "outputs": [
    {
     "data": {
      "image/png": "[encoded data removed]",
      "text/plain": [
       "<Figure size 1000x600 with 2 Axes>"
      ]
     },
     "metadata": {},
     "output_type": "display_data"
    }
   ],
   "source": [
    "f = plt.figure(figsize=(12,4))\n",
    "\n",
    "# countplot\n",
    "plt.subplot(1, 2, 1)\n",
    "df['lahan'].plot(kind='hist', figsize=(10,6), bins=50) # bins = range nya per 50\n",
    "plt.ylabel('\\ncount', size=14)\n",
    "plt.xlabel('Luas lahan [m2]', size=14)\n",
    "\n",
    "# boxplot\n",
    "plt.subplot(1, 2, 2)\n",
    "sns.boxplot(x=df['lahan'])\n",
    "\n",
    "plt.show()"
   ]
  },
  {
   "cell_type": "markdown",
   "metadata": {},
   "source": [
    "Terdapat outlier dari fitur luas lahan."
   ]
  },
  {
   "cell_type": "code",
   "execution_count": 11,
   "metadata": {},
   "outputs": [
    {
     "data": {
      "text/plain": [
       "array([ 3,  2,  7,  4, 13,  6,  5,  9,  8, 23,  1, 12, 15, 11, 10, 18,  0,\n",
       "       24, 37, 16, 47], dtype=int64)"
      ]
     },
     "execution_count": 11,
     "metadata": {},
     "output_type": "execute_result"
    }
   ],
   "source": [
    "df['kamar'].unique()"
   ]
  },
  {
   "cell_type": "code",
   "execution_count": 12,
   "metadata": {},
   "outputs": [
    {
     "data": {
      "text/plain": [
       "array([  75,   70,   36,   60,   90,   48,  200,  350,   30,  670,  100,\n",
       "         65,   37,   21,   80,   45,   49,   40,   50,  140,  150,  450,\n",
       "        170,   55,   73,   61,  315,  120,  110,   83,  250,   56,   38,\n",
       "         77,   58,   68,  240,   98,  324,  101,  300,   86,  230,  320,\n",
       "         34,  212,   43,  650,  135,   94,   54,   72,  260,  196,  180,\n",
       "        123, 1085,   42,  124,   27,  400,  800,  115,  149,  241,   52,\n",
       "         29,  126,  128,  160, 1500,   35,  125,   88,   74,   62,  235,\n",
       "         78,  130,  147,  185,  470,  210,  411,  122,  340,  155,   39,\n",
       "        600,  227,  276,  280,  141,  144,  348,   96,  175,  220,   85,\n",
       "        129,  440,  190,  255,  237,  270,  127,  380,  376,  106,  159,\n",
       "         69,  550,  167,  422,   53,  330,  156,  142,  177,  133,   87,\n",
       "        290,  500,  214,  215,  269,  516,  213,  102,  114,  116,  171,\n",
       "        317,  197,   81,  750,  323,   51,  145,  248,  325,  154,  420,\n",
       "         89,  294,  216,  132,   47,  192,  136,  242,  745,  195,  546,\n",
       "        148, 1200,   97,  275,  146,  224,   41,   95,  112,  236,   59,\n",
       "        360,  104,  460,   66,  377,  295,  165,  336,  331,  131,  158,\n",
       "        244,  117, 1300,  176,   63,  620,  365,  105,  335,   64,  900,\n",
       "        359,  265,  232,  370,  580, 1000, 1850,  225,  205,    0,  310,\n",
       "        134,    1,  204,  535,  701,  432,   84,   82,  404,  288,   71,\n",
       "         10, 1400,  245,  268,   32,   67,   57,  113,  187,  700,  186,\n",
       "        419,  482,  286,   99,  277,  111,  108,  252,  510,  168,  329,\n",
       "        109,  223,  431,  363,  164], dtype=int64)"
      ]
     },
     "execution_count": 12,
     "metadata": {},
     "output_type": "execute_result"
    }
   ],
   "source": [
    "df['bangunan'].unique()"
   ]
  },
  {
   "cell_type": "code",
   "execution_count": 13,
   "metadata": {},
   "outputs": [
    {
     "data": {
      "text/plain": [
       "array([   84,    71,    72,    60,   114,    80,   620,   276,   100,\n",
       "         120,    35,    70,    50,    78,    69,   125,   110,   421,\n",
       "          40,    65,    47,   342,    55,   260,   160,   254,    81,\n",
       "          90,    92,    59,   150,    62,    36,   381,    37,    63,\n",
       "         167,   148,   193,    66,   118,   126,    56,    41,   177,\n",
       "         344,   278,     0,   215,   179,   264,   500,    83,   155,\n",
       "          91,   320,   290,   300,   127,   128,   189,   102,   105,\n",
       "         385,   112,   158,    96,    54,   130,   830,    34,   154,\n",
       "         226,    88,    97,   450,    98,    45,   360,   190,   144,\n",
       "          75,   380,   642,   255,  1170,    43,    57,   119,    95,\n",
       "         140,    89,   267,    61,   108,   200,   210,   319,   223,\n",
       "         233,   240,   212,   414,   411,    30,   161,   288,   152,\n",
       "         136,   375,   861,   543,   180,   420,   204,   350,   170,\n",
       "         477,   172,   588,    67,   207,   117,   387,   230,   262,\n",
       "         187,   197,   202,   106,   280,   216,   211,   251,   176,\n",
       "         198,   104,   252,    99,   649,   427,   235,   238,   156,\n",
       "         700,   292,   122,   165,   257,   358,   145,   175,   224,\n",
       "         208,   214,   135,   184,   162,   196,   115,   448,   250,\n",
       "         242,   299,   458,  1000,   400,   168,   905,    77,    85,\n",
       "         315,   399,   157,   502,   143,   467,   475,   232,   568,\n",
       "         123,    58,   164,   283,   294,   635,   291,   440,    86,\n",
       "         220,   600,   972,   374,   225,   111,   369,   347,   107,\n",
       "         413,   494,    94,   295,   907,   142,    64,   531,   185,\n",
       "         417,   550,   218,  1540,   191,    51,   239,   352,   480,\n",
       "         101,   398,   761,   410,   800,   580,   134,   465,   303,\n",
       "         178,   900,   390,   282,   174,   765,   132,   525,   301,\n",
       "         353,   309,   221,   129,   286,   298,    74,   743,   396,\n",
       "         138,   248,   182,  3800,   689,  1036,   284,     5,    73,\n",
       "         163,   146,    93,   166,   489,   109,   188,    76,   261,\n",
       "          48,    87,   183,   222,   270,   147,   246,   586,   293,\n",
       "         798,   970,   306,   219,   124,   893,   679,   113,    68,\n",
       "         334,   573,   741,   153,   892,   476,  1389,   330,   567,\n",
       "         268,   606,   461,   510,   511,   373,   803,   624,  1526,\n",
       "         195,   312,   672,   217,  2200,  4015,  2100,   512,   850,\n",
       "         310,  1074,  8000,  1236,    49,    82,   439,   478,   354,\n",
       "        1034,   898,   540,   103,   386,   351,  2022,   355,   308,\n",
       "         181,   116,   372,   285,   371,   681,   229,   925,   203,\n",
       "         133, 15000,   526,   335,   169,   365,   314,   469,   392,\n",
       "        1400,   988,  1444,   564,   640,   860,   470,   750,   890,\n",
       "         415,   514,   524,    46,   734,   605,   473,   434,   331,\n",
       "         490,   536,   318], dtype=int64)"
      ]
     },
     "execution_count": 13,
     "metadata": {},
     "output_type": "execute_result"
    }
   ],
   "source": [
    "df['lahan'].unique()"
   ]
  },
  {
   "cell_type": "code",
   "execution_count": 14,
   "metadata": {},
   "outputs": [
    {
     "data": {
      "text/plain": [
       "<bound method DataFrame.info of       kamar  bangunan  lahan       harga\n",
       "0         3        75     84   590000000\n",
       "1         3        70     71   700000000\n",
       "2         2        36     72   386000000\n",
       "3         2        60     60   499000000\n",
       "4         2        90    114   397500000\n",
       "...     ...       ...    ...         ...\n",
       "1461      3       100     72   980000000\n",
       "1462      3       164    270  3200000000\n",
       "1463      4       105     80   991000000\n",
       "1466      3       180     90  1000000000\n",
       "1467      2        65     72   572000000\n",
       "\n",
       "[1173 rows x 4 columns]>"
      ]
     },
     "execution_count": 14,
     "metadata": {},
     "output_type": "execute_result"
    }
   ],
   "source": [
    "## masking\n",
    "mask_kamar = df['kamar'] < 5\n",
    "mask_LT = df['lahan'] < 1000\n",
    "mask_LB = df['bangunan'] < 1000\n",
    "\n",
    "# Tampung di variable baru\n",
    "df = df[mask_kamar & mask_LT & mask_LB]\n",
    "df.info"
   ]
  },
  {
   "cell_type": "code",
   "execution_count": 15,
   "metadata": {},
   "outputs": [
    {
     "data": {
      "image/png": "[encoded data removed]",
      "text/plain": [
       "<Figure size 640x480 with 1 Axes>"
      ]
     },
     "metadata": {},
     "output_type": "display_data"
    }
   ],
   "source": [
    "# Pie chart\n",
    "min_kamar = df['kamar'].min()\n",
    "max_kamar = df['kamar'].max()\n",
    "\n",
    "q = df['kamar'].quantile([.25, .5, .75])\n",
    "\n",
    "kmr_kcl = df.loc[df['kamar'] <= q[0.25]]\n",
    "kmr_mng = df.loc[(df['kamar'] > q[0.25]) & (df['kamar'] <= q[0.5])]\n",
    "kmr_bsr = df.loc[(df['kamar'] > q[0.5]) & (df['kamar'] <= q[0.75])]\n",
    "kmr_eks = df.loc[df['kamar'] > q[0.75]]\n",
    "\n",
    "\n",
    "plt.pie([len(kmr_kcl), len(kmr_mng), len(kmr_bsr), len(kmr_eks)],\n",
    "        labels=[\"Claster kecil\", \"Claster menengah\", \"Claster besar\", \"Claster eksklusif\"],\n",
    "        autopct=\"%0.f%%\")\n",
    "plt.title(\"Claster Kamar\")\n",
    "plt.show()"
   ]
  },
  {
   "cell_type": "code",
   "execution_count": 16,
   "metadata": {},
   "outputs": [
    {
     "data": {
      "image/png": "[encoded data removed]",
      "text/plain": [
       "<Figure size 640x480 with 1 Axes>"
      ]
     },
     "metadata": {},
     "output_type": "display_data"
    }
   ],
   "source": [
    "# Pie chart\n",
    "min_bangunan = df['bangunan'].min()\n",
    "max_bangunan = df['bangunan'].max()\n",
    "\n",
    "q = df['bangunan'].quantile([.25, .5, .75])\n",
    "\n",
    "bangunan_kcl = df.loc[df['bangunan'] <= q[0.25]]\n",
    "bangunan_mng = df.loc[(df['bangunan'] > q[0.25]) & (df['bangunan'] <= q[0.5])]\n",
    "bangunan_bsr = df.loc[(df['bangunan'] > q[0.5]) & (df['bangunan'] <= q[0.75])]\n",
    "bangunan_eks = df.loc[df['bangunan'] > q[0.75]]\n",
    "\n",
    "plt.pie([len(bangunan_kcl), len(bangunan_mng), len(bangunan_bsr), len(bangunan_eks)],\n",
    "        labels=[\"Claster kecil\", \"Claster menengah\", \"Claster besar\", \"Claster ekslusif\"],\n",
    "        autopct=\"%0.f%%\")\n",
    "plt.title(\"Claster Bangunan\")\n",
    "plt.show()"
   ]
  },
  {
   "cell_type": "code",
   "execution_count": 17,
   "metadata": {},
   "outputs": [
    {
     "data": {
      "image/png": "[encoded data removed]",
      "text/plain": [
       "<Figure size 640x480 with 1 Axes>"
      ]
     },
     "metadata": {},
     "output_type": "display_data"
    }
   ],
   "source": [
    "# Pie chart\n",
    "min_lahan = df['lahan'].min()\n",
    "max_lahan = df['lahan'].max()\n",
    "\n",
    "q = df['lahan'].quantile([.25, .5, .75])\n",
    "\n",
    "lahan_kcl = df.loc[df['lahan'] <= q[0.25]]\n",
    "lahan_mng = df.loc[(df['lahan'] > q[0.25]) & (df['lahan'] <= q[0.5])]\n",
    "lahan_bsr = df.loc[(df['lahan'] > q[0.5]) & (df['lahan'] <= q[0.75])]\n",
    "lahan_eks = df.loc[df['lahan'] > q[0.75]]\n",
    "\n",
    "plt.pie([len(lahan_kcl), len(lahan_mng), len(lahan_bsr), len(lahan_eks)],\n",
    "        labels=[\"Claster kecil\", \"Claster menengah\", \"Claster besar\", \"Claster ekslusif\"],\n",
    "        autopct=\"%0.f%%\")\n",
    "plt.title(\"Claster Lahan\")\n",
    "plt.show()"
   ]
  },
  {
   "cell_type": "code",
   "execution_count": 18,
   "metadata": {},
   "outputs": [],
   "source": [
    "# ! pip install -U Jinja2"
   ]
  },
  {
   "cell_type": "markdown",
   "metadata": {},
   "source": [
    "Jelasin sebaran data hasil univariate analysis"
   ]
  },
  {
   "cell_type": "code",
   "execution_count": 19,
   "metadata": {},
   "outputs": [
    {
     "data": {
      "text/html": [
       "<style type=\"text/css\">\n",
       "#T_fd033_row0_col0, #T_fd033_row1_col1, #T_fd033_row2_col2, #T_fd033_row3_col3 {\n",
       "  background-color: #023858;\n",
       "  color: #f1f1f1;\n",
       "}\n",
       "#T_fd033_row0_col1, #T_fd033_row0_col2, #T_fd033_row0_col3, #T_fd033_row3_col0 {\n",
       "  background-color: #fff7fb;\n",
       "  color: #000000;\n",
       "}\n",
       "#T_fd033_row1_col0 {\n",
       "  background-color: #a1bbda;\n",
       "  color: #000000;\n",
       "}\n",
       "#T_fd033_row1_col2 {\n",
       "  background-color: #4c99c5;\n",
       "  color: #f1f1f1;\n",
       "}\n",
       "#T_fd033_row1_col3 {\n",
       "  background-color: #69a5cc;\n",
       "  color: #f1f1f1;\n",
       "}\n",
       "#T_fd033_row2_col0 {\n",
       "  background-color: #d9d8ea;\n",
       "  color: #000000;\n",
       "}\n",
       "#T_fd033_row2_col1 {\n",
       "  background-color: #86b0d3;\n",
       "  color: #000000;\n",
       "}\n",
       "#T_fd033_row2_col3 {\n",
       "  background-color: #2081b9;\n",
       "  color: #f1f1f1;\n",
       "}\n",
       "#T_fd033_row3_col1 {\n",
       "  background-color: #d8d7e9;\n",
       "  color: #000000;\n",
       "}\n",
       "#T_fd033_row3_col2 {\n",
       "  background-color: #4295c3;\n",
       "  color: #f1f1f1;\n",
       "}\n",
       "</style>\n",
       "<table id=\"T_fd033\">\n",
       "  <thead>\n",
       "    <tr>\n",
       "      <th class=\"blank level0\" >&nbsp;</th>\n",
       "      <th id=\"T_fd033_level0_col0\" class=\"col_heading level0 col0\" >kamar</th>\n",
       "      <th id=\"T_fd033_level0_col1\" class=\"col_heading level0 col1\" >bangunan</th>\n",
       "      <th id=\"T_fd033_level0_col2\" class=\"col_heading level0 col2\" >lahan</th>\n",
       "      <th id=\"T_fd033_level0_col3\" class=\"col_heading level0 col3\" >harga</th>\n",
       "    </tr>\n",
       "  </thead>\n",
       "  <tbody>\n",
       "    <tr>\n",
       "      <th id=\"T_fd033_level0_row0\" class=\"row_heading level0 row0\" >kamar</th>\n",
       "      <td id=\"T_fd033_row0_col0\" class=\"data row0 col0\" >1.00</td>\n",
       "      <td id=\"T_fd033_row0_col1\" class=\"data row0 col1\" >0.54</td>\n",
       "      <td id=\"T_fd033_row0_col2\" class=\"data row0 col2\" >0.41</td>\n",
       "      <td id=\"T_fd033_row0_col3\" class=\"data row0 col3\" >0.25</td>\n",
       "    </tr>\n",
       "    <tr>\n",
       "      <th id=\"T_fd033_level0_row1\" class=\"row_heading level0 row1\" >bangunan</th>\n",
       "      <td id=\"T_fd033_row1_col0\" class=\"data row1 col0\" >0.54</td>\n",
       "      <td id=\"T_fd033_row1_col1\" class=\"data row1 col1\" >1.00</td>\n",
       "      <td id=\"T_fd033_row1_col2\" class=\"data row1 col2\" >0.75</td>\n",
       "      <td id=\"T_fd033_row1_col3\" class=\"data row1 col3\" >0.64</td>\n",
       "    </tr>\n",
       "    <tr>\n",
       "      <th id=\"T_fd033_level0_row2\" class=\"row_heading level0 row2\" >lahan</th>\n",
       "      <td id=\"T_fd033_row2_col0\" class=\"data row2 col0\" >0.41</td>\n",
       "      <td id=\"T_fd033_row2_col1\" class=\"data row2 col1\" >0.75</td>\n",
       "      <td id=\"T_fd033_row2_col2\" class=\"data row2 col2\" >1.00</td>\n",
       "      <td id=\"T_fd033_row2_col3\" class=\"data row2 col3\" >0.76</td>\n",
       "    </tr>\n",
       "    <tr>\n",
       "      <th id=\"T_fd033_level0_row3\" class=\"row_heading level0 row3\" >harga</th>\n",
       "      <td id=\"T_fd033_row3_col0\" class=\"data row3 col0\" >0.25</td>\n",
       "      <td id=\"T_fd033_row3_col1\" class=\"data row3 col1\" >0.64</td>\n",
       "      <td id=\"T_fd033_row3_col2\" class=\"data row3 col2\" >0.76</td>\n",
       "      <td id=\"T_fd033_row3_col3\" class=\"data row3 col3\" >1.00</td>\n",
       "    </tr>\n",
       "  </tbody>\n",
       "</table>\n"
      ],
      "text/plain": [
       "<pandas.io.formats.style.Styler at 0x254079a79d0>"
      ]
     },
     "execution_count": 19,
     "metadata": {},
     "output_type": "execute_result"
    }
   ],
   "source": [
    "df.corr().style.background_gradient().format(precision=2)"
   ]
  },
  {
   "cell_type": "markdown",
   "metadata": {},
   "source": [
    "Jelasin multivariate analysis"
   ]
  },
  {
   "cell_type": "markdown",
   "metadata": {},
   "source": [
    "# Modeling"
   ]
  },
  {
   "cell_type": "code",
   "execution_count": 20,
   "metadata": {},
   "outputs": [
    {
     "data": {
      "text/html": [
       "<div>\n",
       "<style scoped>\n",
       "    .dataframe tbody tr th:only-of-type {\n",
       "        vertical-align: middle;\n",
       "    }\n",
       "\n",
       "    .dataframe tbody tr th {\n",
       "        vertical-align: top;\n",
       "    }\n",
       "\n",
       "    .dataframe thead th {\n",
       "        text-align: right;\n",
       "    }\n",
       "</style>\n",
       "<table border=\"1\" class=\"dataframe\">\n",
       "  <thead>\n",
       "    <tr style=\"text-align: right;\">\n",
       "      <th></th>\n",
       "      <th>kamar</th>\n",
       "      <th>bangunan</th>\n",
       "      <th>lahan</th>\n",
       "      <th>harga</th>\n",
       "    </tr>\n",
       "  </thead>\n",
       "  <tbody>\n",
       "    <tr>\n",
       "      <th>0</th>\n",
       "      <td>3</td>\n",
       "      <td>75</td>\n",
       "      <td>84</td>\n",
       "      <td>590000000</td>\n",
       "    </tr>\n",
       "    <tr>\n",
       "      <th>1</th>\n",
       "      <td>3</td>\n",
       "      <td>70</td>\n",
       "      <td>71</td>\n",
       "      <td>700000000</td>\n",
       "    </tr>\n",
       "    <tr>\n",
       "      <th>2</th>\n",
       "      <td>2</td>\n",
       "      <td>36</td>\n",
       "      <td>72</td>\n",
       "      <td>386000000</td>\n",
       "    </tr>\n",
       "    <tr>\n",
       "      <th>3</th>\n",
       "      <td>2</td>\n",
       "      <td>60</td>\n",
       "      <td>60</td>\n",
       "      <td>499000000</td>\n",
       "    </tr>\n",
       "    <tr>\n",
       "      <th>4</th>\n",
       "      <td>2</td>\n",
       "      <td>90</td>\n",
       "      <td>114</td>\n",
       "      <td>397500000</td>\n",
       "    </tr>\n",
       "    <tr>\n",
       "      <th>...</th>\n",
       "      <td>...</td>\n",
       "      <td>...</td>\n",
       "      <td>...</td>\n",
       "      <td>...</td>\n",
       "    </tr>\n",
       "    <tr>\n",
       "      <th>1461</th>\n",
       "      <td>3</td>\n",
       "      <td>100</td>\n",
       "      <td>72</td>\n",
       "      <td>980000000</td>\n",
       "    </tr>\n",
       "    <tr>\n",
       "      <th>1462</th>\n",
       "      <td>3</td>\n",
       "      <td>164</td>\n",
       "      <td>270</td>\n",
       "      <td>3200000000</td>\n",
       "    </tr>\n",
       "    <tr>\n",
       "      <th>1463</th>\n",
       "      <td>4</td>\n",
       "      <td>105</td>\n",
       "      <td>80</td>\n",
       "      <td>991000000</td>\n",
       "    </tr>\n",
       "    <tr>\n",
       "      <th>1466</th>\n",
       "      <td>3</td>\n",
       "      <td>180</td>\n",
       "      <td>90</td>\n",
       "      <td>1000000000</td>\n",
       "    </tr>\n",
       "    <tr>\n",
       "      <th>1467</th>\n",
       "      <td>2</td>\n",
       "      <td>65</td>\n",
       "      <td>72</td>\n",
       "      <td>572000000</td>\n",
       "    </tr>\n",
       "  </tbody>\n",
       "</table>\n",
       "<p>1173 rows × 4 columns</p>\n",
       "</div>"
      ],
      "text/plain": [
       "      kamar  bangunan  lahan       harga\n",
       "0         3        75     84   590000000\n",
       "1         3        70     71   700000000\n",
       "2         2        36     72   386000000\n",
       "3         2        60     60   499000000\n",
       "4         2        90    114   397500000\n",
       "...     ...       ...    ...         ...\n",
       "1461      3       100     72   980000000\n",
       "1462      3       164    270  3200000000\n",
       "1463      4       105     80   991000000\n",
       "1466      3       180     90  1000000000\n",
       "1467      2        65     72   572000000\n",
       "\n",
       "[1173 rows x 4 columns]"
      ]
     },
     "execution_count": 20,
     "metadata": {},
     "output_type": "execute_result"
    }
   ],
   "source": [
    "df"
   ]
  },
  {
   "cell_type": "code",
   "execution_count": 21,
   "metadata": {},
   "outputs": [
    {
     "data": {
      "text/html": [
       "<style>#sk-container-id-1 {color: black;}#sk-container-id-1 pre{padding: 0;}#sk-container-id-1 div.sk-toggleable {background-color: white;}#sk-container-id-1 label.sk-toggleable__label {cursor: pointer;display: block;width: 100%;margin-bottom: 0;padding: 0.3em;box-sizing: border-box;text-align: center;}#sk-container-id-1 label.sk-toggleable__label-arrow:before {content: \"▸\";float: left;margin-right: 0.25em;color: #696969;}#sk-container-id-1 label.sk-toggleable__label-arrow:hover:before {color: black;}#sk-container-id-1 div.sk-estimator:hover label.sk-toggleable__label-arrow:before {color: black;}#sk-container-id-1 div.sk-toggleable__content {max-height: 0;max-width: 0;overflow: hidden;text-align: left;background-color: #f0f8ff;}#sk-container-id-1 div.sk-toggleable__content pre {margin: 0.2em;color: black;border-radius: 0.25em;background-color: #f0f8ff;}#sk-container-id-1 input.sk-toggleable__control:checked~div.sk-toggleable__content {max-height: 200px;max-width: 100%;overflow: auto;}#sk-container-id-1 input.sk-toggleable__control:checked~label.sk-toggleable__label-arrow:before {content: \"▾\";}#sk-container-id-1 div.sk-estimator input.sk-toggleable__control:checked~label.sk-toggleable__label {background-color: #d4ebff;}#sk-container-id-1 div.sk-label input.sk-toggleable__control:checked~label.sk-toggleable__label {background-color: #d4ebff;}#sk-container-id-1 input.sk-hidden--visually {border: 0;clip: rect(1px 1px 1px 1px);clip: rect(1px, 1px, 1px, 1px);height: 1px;margin: -1px;overflow: hidden;padding: 0;position: absolute;width: 1px;}#sk-container-id-1 div.sk-estimator {font-family: monospace;background-color: #f0f8ff;border: 1px dotted black;border-radius: 0.25em;box-sizing: border-box;margin-bottom: 0.5em;}#sk-container-id-1 div.sk-estimator:hover {background-color: #d4ebff;}#sk-container-id-1 div.sk-parallel-item::after {content: \"\";width: 100%;border-bottom: 1px solid gray;flex-grow: 1;}#sk-container-id-1 div.sk-label:hover label.sk-toggleable__label {background-color: #d4ebff;}#sk-container-id-1 div.sk-serial::before {content: \"\";position: absolute;border-left: 1px solid gray;box-sizing: border-box;top: 0;bottom: 0;left: 50%;z-index: 0;}#sk-container-id-1 div.sk-serial {display: flex;flex-direction: column;align-items: center;background-color: white;padding-right: 0.2em;padding-left: 0.2em;position: relative;}#sk-container-id-1 div.sk-item {position: relative;z-index: 1;}#sk-container-id-1 div.sk-parallel {display: flex;align-items: stretch;justify-content: center;background-color: white;position: relative;}#sk-container-id-1 div.sk-item::before, #sk-container-id-1 div.sk-parallel-item::before {content: \"\";position: absolute;border-left: 1px solid gray;box-sizing: border-box;top: 0;bottom: 0;left: 50%;z-index: -1;}#sk-container-id-1 div.sk-parallel-item {display: flex;flex-direction: column;z-index: 1;position: relative;background-color: white;}#sk-container-id-1 div.sk-parallel-item:first-child::after {align-self: flex-end;width: 50%;}#sk-container-id-1 div.sk-parallel-item:last-child::after {align-self: flex-start;width: 50%;}#sk-container-id-1 div.sk-parallel-item:only-child::after {width: 0;}#sk-container-id-1 div.sk-dashed-wrapped {border: 1px dashed gray;margin: 0 0.4em 0.5em 0.4em;box-sizing: border-box;padding-bottom: 0.4em;background-color: white;}#sk-container-id-1 div.sk-label label {font-family: monospace;font-weight: bold;display: inline-block;line-height: 1.2em;}#sk-container-id-1 div.sk-label-container {text-align: center;}#sk-container-id-1 div.sk-container {/* jupyter's `normalize.less` sets `[hidden] { display: none; }` but bootstrap.min.css set `[hidden] { display: none !important; }` so we also need the `!important` here to be able to override the default hidden behavior on the sphinx rendered scikit-learn.org. See: https://github.com/scikit-learn/scikit-learn/issues/21755 */display: inline-block !important;position: relative;}#sk-container-id-1 div.sk-text-repr-fallback {display: none;}</style><div id=\"sk-container-id-1\" class=\"sk-top-container\"><div class=\"sk-text-repr-fallback\"><pre>LinearRegression()</pre><b>In a Jupyter environment, please rerun this cell to show the HTML representation or trust the notebook. <br />On GitHub, the HTML representation is unable to render, please try loading this page with nbviewer.org.</b></div><div class=\"sk-container\" hidden><div class=\"sk-item\"><div class=\"sk-estimator sk-toggleable\"><input class=\"sk-toggleable__control sk-hidden--visually\" id=\"sk-estimator-id-1\" type=\"checkbox\" checked><label for=\"sk-estimator-id-1\" class=\"sk-toggleable__label sk-toggleable__label-arrow\">LinearRegression</label><div class=\"sk-toggleable__content\"><pre>LinearRegression()</pre></div></div></div></div></div>"
      ],
      "text/plain": [
       "LinearRegression()"
      ]
     },
     "execution_count": 21,
     "metadata": {},
     "output_type": "execute_result"
    }
   ],
   "source": [
    "# tentukan variable dependen dan independen\n",
    "x = df.drop(columns='harga')\n",
    "y = df['harga']\n",
    "\n",
    "# split data 80% - 20%\n",
    "# opsi 2: 70% - 30%\n",
    "x_train, x_test, y_train, y_test = train_test_split(x, y, test_size=0.2, random_state=42)\n",
    "\n",
    "# assign model RL\n",
    "lin_reg = LinearRegression()\n",
    "\n",
    "lin_reg.fit(x_train, y_train)"
   ]
  },
  {
   "cell_type": "code",
   "execution_count": 22,
   "metadata": {},
   "outputs": [
    {
     "data": {
      "text/html": [
       "<div>\n",
       "<style scoped>\n",
       "    .dataframe tbody tr th:only-of-type {\n",
       "        vertical-align: middle;\n",
       "    }\n",
       "\n",
       "    .dataframe tbody tr th {\n",
       "        vertical-align: top;\n",
       "    }\n",
       "\n",
       "    .dataframe thead th {\n",
       "        text-align: right;\n",
       "    }\n",
       "</style>\n",
       "<table border=\"1\" class=\"dataframe\">\n",
       "  <thead>\n",
       "    <tr style=\"text-align: right;\">\n",
       "      <th></th>\n",
       "      <th>kamar</th>\n",
       "      <th>bangunan</th>\n",
       "      <th>lahan</th>\n",
       "    </tr>\n",
       "    <tr>\n",
       "      <th>harga</th>\n",
       "      <th></th>\n",
       "      <th></th>\n",
       "      <th></th>\n",
       "    </tr>\n",
       "  </thead>\n",
       "  <tbody>\n",
       "    <tr>\n",
       "      <th>65000000</th>\n",
       "      <td>2</td>\n",
       "      <td>21</td>\n",
       "      <td>35</td>\n",
       "    </tr>\n",
       "    <tr>\n",
       "      <th>100000000</th>\n",
       "      <td>2</td>\n",
       "      <td>30</td>\n",
       "      <td>40</td>\n",
       "    </tr>\n",
       "    <tr>\n",
       "      <th>115000000</th>\n",
       "      <td>2</td>\n",
       "      <td>36</td>\n",
       "      <td>60</td>\n",
       "    </tr>\n",
       "    <tr>\n",
       "      <th>130000000</th>\n",
       "      <td>2</td>\n",
       "      <td>30</td>\n",
       "      <td>50</td>\n",
       "    </tr>\n",
       "    <tr>\n",
       "      <th>135000000</th>\n",
       "      <td>2</td>\n",
       "      <td>36</td>\n",
       "      <td>48</td>\n",
       "    </tr>\n",
       "    <tr>\n",
       "      <th>...</th>\n",
       "      <td>...</td>\n",
       "      <td>...</td>\n",
       "      <td>...</td>\n",
       "    </tr>\n",
       "    <tr>\n",
       "      <th>22000000000</th>\n",
       "      <td>4</td>\n",
       "      <td>177</td>\n",
       "      <td>679</td>\n",
       "    </tr>\n",
       "    <tr>\n",
       "      <th>34000000000</th>\n",
       "      <td>0</td>\n",
       "      <td>500</td>\n",
       "      <td>850</td>\n",
       "    </tr>\n",
       "    <tr>\n",
       "      <th>38000000000</th>\n",
       "      <td>4</td>\n",
       "      <td>600</td>\n",
       "      <td>800</td>\n",
       "    </tr>\n",
       "    <tr>\n",
       "      <th>40000000000</th>\n",
       "      <td>3</td>\n",
       "      <td>600</td>\n",
       "      <td>861</td>\n",
       "    </tr>\n",
       "    <tr>\n",
       "      <th>43000000000</th>\n",
       "      <td>4</td>\n",
       "      <td>650</td>\n",
       "      <td>900</td>\n",
       "    </tr>\n",
       "  </tbody>\n",
       "</table>\n",
       "<p>429 rows × 3 columns</p>\n",
       "</div>"
      ],
      "text/plain": [
       "             kamar  bangunan  lahan\n",
       "harga                              \n",
       "65000000         2        21     35\n",
       "100000000        2        30     40\n",
       "115000000        2        36     60\n",
       "130000000        2        30     50\n",
       "135000000        2        36     48\n",
       "...            ...       ...    ...\n",
       "22000000000      4       177    679\n",
       "34000000000      0       500    850\n",
       "38000000000      4       600    800\n",
       "40000000000      3       600    861\n",
       "43000000000      4       650    900\n",
       "\n",
       "[429 rows x 3 columns]"
      ]
     },
     "execution_count": 22,
     "metadata": {},
     "output_type": "execute_result"
    }
   ],
   "source": [
    "df = df.groupby('harga')\n",
    "df.first()"
   ]
  },
  {
   "cell_type": "code",
   "execution_count": 23,
   "metadata": {},
   "outputs": [
    {
     "data": {
      "text/plain": [
       "0.6610715018985451"
      ]
     },
     "execution_count": 23,
     "metadata": {},
     "output_type": "execute_result"
    }
   ],
   "source": [
    "# buat evaluasi model\n",
    "y_pred = lin_reg.predict(x_test)\n",
    "lin_reg.score(x_test, y_test)"
   ]
  },
  {
   "cell_type": "code",
   "execution_count": 29,
   "metadata": {},
   "outputs": [
    {
     "name": "stdout",
     "output_type": "stream",
     "text": [
      "Rp 6,192,844,546.1\n"
     ]
    }
   ],
   "source": [
    "# solve business problem\n",
    "input_data = pd.DataFrame({'kamar': [2],\n",
    "                           'bangunan': [220],\n",
    "                           'lahan': [350]})\n",
    "\n",
    "# pakai model buat prediksi dari input POST\n",
    "predict = lin_reg.predict(input_data)\n",
    "predict = round(float(predict[0]), 2)\n",
    "\n",
    "predict = \"{:,}\".format(predict)\n",
    "print(\"Rp\", predict)"
   ]
  },
  {
   "cell_type": "markdown",
   "metadata": {},
   "source": [
    "# Use Case 2"
   ]
  },
  {
   "cell_type": "code",
   "execution_count": 31,
   "metadata": {},
   "outputs": [
    {
     "data": {
      "text/html": [
       "<style>#sk-container-id-2 {color: black;}#sk-container-id-2 pre{padding: 0;}#sk-container-id-2 div.sk-toggleable {background-color: white;}#sk-container-id-2 label.sk-toggleable__label {cursor: pointer;display: block;width: 100%;margin-bottom: 0;padding: 0.3em;box-sizing: border-box;text-align: center;}#sk-container-id-2 label.sk-toggleable__label-arrow:before {content: \"▸\";float: left;margin-right: 0.25em;color: #696969;}#sk-container-id-2 label.sk-toggleable__label-arrow:hover:before {color: black;}#sk-container-id-2 div.sk-estimator:hover label.sk-toggleable__label-arrow:before {color: black;}#sk-container-id-2 div.sk-toggleable__content {max-height: 0;max-width: 0;overflow: hidden;text-align: left;background-color: #f0f8ff;}#sk-container-id-2 div.sk-toggleable__content pre {margin: 0.2em;color: black;border-radius: 0.25em;background-color: #f0f8ff;}#sk-container-id-2 input.sk-toggleable__control:checked~div.sk-toggleable__content {max-height: 200px;max-width: 100%;overflow: auto;}#sk-container-id-2 input.sk-toggleable__control:checked~label.sk-toggleable__label-arrow:before {content: \"▾\";}#sk-container-id-2 div.sk-estimator input.sk-toggleable__control:checked~label.sk-toggleable__label {background-color: #d4ebff;}#sk-container-id-2 div.sk-label input.sk-toggleable__control:checked~label.sk-toggleable__label {background-color: #d4ebff;}#sk-container-id-2 input.sk-hidden--visually {border: 0;clip: rect(1px 1px 1px 1px);clip: rect(1px, 1px, 1px, 1px);height: 1px;margin: -1px;overflow: hidden;padding: 0;position: absolute;width: 1px;}#sk-container-id-2 div.sk-estimator {font-family: monospace;background-color: #f0f8ff;border: 1px dotted black;border-radius: 0.25em;box-sizing: border-box;margin-bottom: 0.5em;}#sk-container-id-2 div.sk-estimator:hover {background-color: #d4ebff;}#sk-container-id-2 div.sk-parallel-item::after {content: \"\";width: 100%;border-bottom: 1px solid gray;flex-grow: 1;}#sk-container-id-2 div.sk-label:hover label.sk-toggleable__label {background-color: #d4ebff;}#sk-container-id-2 div.sk-serial::before {content: \"\";position: absolute;border-left: 1px solid gray;box-sizing: border-box;top: 0;bottom: 0;left: 50%;z-index: 0;}#sk-container-id-2 div.sk-serial {display: flex;flex-direction: column;align-items: center;background-color: white;padding-right: 0.2em;padding-left: 0.2em;position: relative;}#sk-container-id-2 div.sk-item {position: relative;z-index: 1;}#sk-container-id-2 div.sk-parallel {display: flex;align-items: stretch;justify-content: center;background-color: white;position: relative;}#sk-container-id-2 div.sk-item::before, #sk-container-id-2 div.sk-parallel-item::before {content: \"\";position: absolute;border-left: 1px solid gray;box-sizing: border-box;top: 0;bottom: 0;left: 50%;z-index: -1;}#sk-container-id-2 div.sk-parallel-item {display: flex;flex-direction: column;z-index: 1;position: relative;background-color: white;}#sk-container-id-2 div.sk-parallel-item:first-child::after {align-self: flex-end;width: 50%;}#sk-container-id-2 div.sk-parallel-item:last-child::after {align-self: flex-start;width: 50%;}#sk-container-id-2 div.sk-parallel-item:only-child::after {width: 0;}#sk-container-id-2 div.sk-dashed-wrapped {border: 1px dashed gray;margin: 0 0.4em 0.5em 0.4em;box-sizing: border-box;padding-bottom: 0.4em;background-color: white;}#sk-container-id-2 div.sk-label label {font-family: monospace;font-weight: bold;display: inline-block;line-height: 1.2em;}#sk-container-id-2 div.sk-label-container {text-align: center;}#sk-container-id-2 div.sk-container {/* jupyter's `normalize.less` sets `[hidden] { display: none; }` but bootstrap.min.css set `[hidden] { display: none !important; }` so we also need the `!important` here to be able to override the default hidden behavior on the sphinx rendered scikit-learn.org. See: https://github.com/scikit-learn/scikit-learn/issues/21755 */display: inline-block !important;position: relative;}#sk-container-id-2 div.sk-text-repr-fallback {display: none;}</style><div id=\"sk-container-id-2\" class=\"sk-top-container\"><div class=\"sk-text-repr-fallback\"><pre>LinearRegression()</pre><b>In a Jupyter environment, please rerun this cell to show the HTML representation or trust the notebook. <br />On GitHub, the HTML representation is unable to render, please try loading this page with nbviewer.org.</b></div><div class=\"sk-container\" hidden><div class=\"sk-item\"><div class=\"sk-estimator sk-toggleable\"><input class=\"sk-toggleable__control sk-hidden--visually\" id=\"sk-estimator-id-2\" type=\"checkbox\" checked><label for=\"sk-estimator-id-2\" class=\"sk-toggleable__label sk-toggleable__label-arrow\">LinearRegression</label><div class=\"sk-toggleable__content\"><pre>LinearRegression()</pre></div></div></div></div></div>"
      ],
      "text/plain": [
       "LinearRegression()"
      ]
     },
     "execution_count": 31,
     "metadata": {},
     "output_type": "execute_result"
    }
   ],
   "source": [
    "# tentukan variable dependen dan independen\n",
    "\n",
    "df2 = pd.read_csv('properti_bdg.csv')\n",
    "\n",
    "x = df2[['harga']]\n",
    "y = df2[['kamar', 'bangunan', 'lahan']]\n",
    "\n",
    "# split data 80% - 20%\n",
    "# opsi 2: 70% - 30%\n",
    "\n",
    "x_train, x_test, y_train, y_test = train_test_split(x, y, test_size=0.2, random_state=42)\n",
    "\n",
    "# assign model RL\n",
    "lin_reg = LinearRegression()\n",
    "\n",
    "lin_reg.fit(x_train, y_train)"
   ]
  },
  {
   "cell_type": "code",
   "execution_count": 42,
   "metadata": {},
   "outputs": [
    {
     "name": "stdout",
     "output_type": "stream",
     "text": [
      "Spesifikasi rumah dengan harga Rp400.000.000,00:\n",
      "{'kamar': 3, 'bangunan': 118, 'lahan': 99}\n"
     ]
    }
   ],
   "source": [
    "import locale\n",
    "\n",
    "harga_min = df2['harga'].min()\n",
    "\n",
    "harga_to_predict = 400000000\n",
    "\n",
    "if harga_to_predict < harga_min:\n",
    "    print(f\"Harga yang dimasukan ({harga_to_predict}) terlalu kecil. Sistem tidak bisa memberikan rekomendasi spesifikasi properti yang diinginkan.\")\n",
    "else:\n",
    "    locale.setlocale(locale.LC_ALL, 'id_ID')\n",
    "    harga_formated = locale.currency(harga_to_predict, grouping=True)\n",
    "\n",
    "    df_input = pd.DataFrame({'harga': [harga_to_predict]})\n",
    "    predict_features = lin_reg.predict(df_input)\n",
    "\n",
    "    hasil_prediksi = {y.columns[i]: round((predict_features[0][i])) for i in range (len(y.columns))}\n",
    "    print(f\"Spesifikasi rumah dengan harga {harga_formated}:\")\n",
    "    print(hasil_prediksi)"
   ]
  }
 ],
 "metadata": {
  "kernelspec": {
   "display_name": "env",
   "language": "python",
   "name": "python3"
  },
  "language_info": {
   "codemirror_mode": {
    "name": "ipython",
    "version": 3
   },
   "file_extension": ".py",
   "mimetype": "text/x-python",
   "name": "python",
   "nbconvert_exporter": "python",
   "pygments_lexer": "ipython3",
   "version": "3.11.4"
  }
 },
 "nbformat": 4,
 "nbformat_minor": 2
}
